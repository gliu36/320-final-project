{
 "cells": [
  {
   "cell_type": "markdown",
   "metadata": {},
   "source": [
    "# Some Title League\n",
    "    by Gerald Liu and On Choi\n",
    "     - CMSC 320 Fall 2019\n",
    "\n",
    "<img src=\"https://media.comicbook.com/2019/04/riot-games-logo-1167492-1280x0.jpeg\"  width=\"200\" height=\"200\"/><img src=\"https://i.pinimg.com/originals/4c/0b/51/4c0b5190cf49d2d3e16d8ab56c632b44.jpg\" width=\"200\" height=\"200\"/>"
   ]
  },
  {
   "cell_type": "markdown",
   "metadata": {},
   "source": [
    "\n",
    "## 1. Introduction\n",
    "\n",
    "League of Legends (LoL) is a MOBA (Multiplayer Online Battle Arena) published by Riot Games in 2009 and is the [most popular online PC game](https://newzoo.com/insights/rankings/top-20-core-pc-games/) as of November 2019. The competitive scene or e-sports has been popular among players and the most recent international tornament had an estimated 99.6 million viewers and had a $2.5 million prize pool for over 100 teams accross 13 regions around the world [(source)](https://www.businessinsider.com/league-of-legends-world-championship-winner-funplus-phoenix-photos-2019-11). There is an estimated >100 million matches of league played per day with 8 million concurrent players at any given time as of 2017 and that number as only gone up. As a result, the LoL has generated a plethora of data over the years and much can be learned from any perspective and purpose. \n",
    "\n",
    "\n",
    "In our tutorial, we will looking at match and player data for the North American Server for the latest season as of December 2019. We will crawl the league API to gather and tidy useful data \n",
    "\n",
    "## 2. Required Libraries/Resources\n",
    "\n",
    " - To scrape League of Legends data, we need requets and beautifulsoup4\n",
    " - Pandas and Numpy will be used to transform and tidy our dataset\n",
    " - matplotlib and seaborn for data visualization\n",
    " - sklearn for predictions and machine learning\n",
    " \n",
    " \n",
    " - We need an API key to access the Riot API. We will load it from a hidden file called 'api_key.json'. Generate yours at https://developer.riotgames.com/. "
   ]
  },
  {
   "cell_type": "code",
   "execution_count": 3,
   "metadata": {},
   "outputs": [],
   "source": [
    "# Imports\n",
    "import pandas as pd\n",
    "import numpy as np\n",
    "from sklearn import linear_model\n",
    "from sklearn.ensemble import RandomForestClassifier\n",
    "from sklearn.model_selection import train_test_split, validation_curve, cross_val_score\n",
    "import matplotlib.pyplot as plt\n",
    "import seaborn as sns\n",
    "import requests\n",
    "import json\n",
    "from bs4 import BeautifulSoup\n",
    "import warnings\n",
    "warnings.filterwarnings('ignore')\n",
    "\n",
    "# API Key obtained from Riot Developer Portal (unique for account expires every 16 hours)\n",
    "# However, you can apply for an permanent API key at https://developer.riotgames.com/app-type \n",
    "API_KEY = 'XXXXX-XXXXXXXX-XXXX-XXXX-XXXX-XXXXXXXXXXXX'\n",
    "# We have our API key loaded from a json file (can also be stored as an evironment variable if you would like)\n",
    "with open('api_key.json') as f:\n",
    "  API_KEY = json.load(f)['API_KEY']"
   ]
  },
  {
   "cell_type": "code",
   "execution_count": null,
   "metadata": {},
   "outputs": [],
   "source": []
  },
  {
   "cell_type": "markdown",
   "metadata": {},
   "source": [
    "# 3. Data Collection (API Crawling)\n",
    "\n",
    " - To gather match data, Riot provides an [API](https://developer.riotgames.com/apis) that has data for matches, players (summoners), champions (playable characters), ect.\n",
    " \n",
    " \n",
    " - However, Riot only provides match data from a given matchID which cannot be randomly gotten. Therefore, we need to start from a seeded playerID and crawl through that players' teammates and opponents matches to generate enough data to preform data analysis.\n",
    " \n",
    " \n",
    " - Our set seed will be my summoner ID \"Fanw\" on the North American server. \n",
    " \n",
    " \n",
    " ### Using Riot's API\n",
    " \n",
    " - Riot has a [developer portal](https://developer.riotgames.com/) which you will need a Riot [account](https://developer.riotgames.com/login). "
   ]
  },
  {
   "cell_type": "code",
   "execution_count": null,
   "metadata": {},
   "outputs": [],
   "source": []
  },
  {
   "cell_type": "code",
   "execution_count": null,
   "metadata": {},
   "outputs": [],
   "source": []
  }
 ],
 "metadata": {
  "kernelspec": {
   "display_name": "Python 3",
   "language": "python",
   "name": "python3"
  },
  "language_info": {
   "codemirror_mode": {
    "name": "ipython",
    "version": 3
   },
   "file_extension": ".py",
   "mimetype": "text/x-python",
   "name": "python",
   "nbconvert_exporter": "python",
   "pygments_lexer": "ipython3",
   "version": "3.7.3"
  }
 },
 "nbformat": 4,
 "nbformat_minor": 2
}
